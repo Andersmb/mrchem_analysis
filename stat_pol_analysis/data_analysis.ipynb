{
 "cells": [
  {
   "cell_type": "code",
   "execution_count": 1,
   "metadata": {},
   "outputs": [],
   "source": [
    "import functions\n",
    "from pprint import pprint\n",
    "import matplotlib.pyplot as plt\n",
    "import sys, operator"
   ]
  },
  {
   "cell_type": "code",
   "execution_count": 11,
   "metadata": {},
   "outputs": [],
   "source": [
    "# The GTO data from Head-Gordon et al for a subset of functionals\n",
    "hg_data = functions.get_HG_data(\"hg_data.csv\", functionals=[\"ccsd(t)\", \"pbe\", \"pbe0\"])\n",
    "\n",
    "# The multiwavelet data, first derivative finite difference based on dipoles\n",
    "mw_data = functions.get_mw_pol_fdu(\"mw_rawdata.csv\")"
   ]
  },
  {
   "cell_type": "code",
   "execution_count": 12,
   "metadata": {},
   "outputs": [
    {
     "data": {
      "text/plain": [
       "{'ccsd(t)': {'diagonal': [5.971, 5.971, 5.132], 'mean': 5.691333333333333},\n",
       " 'pbe': {'diagonal': [6.292, 6.292, 5.656], 'mean': 6.079999999999999},\n",
       " 'pbe0': {'diagonal': [6.248, 6.248, 5.378], 'mean': 5.958000000000001},\n",
       " 'spin': 'NSP'}"
      ]
     },
     "execution_count": 12,
     "metadata": {},
     "output_type": "execute_result"
    }
   ],
   "source": [
    "# All data are stored in dictionaries. For example, the HG data for AlF is\n",
    "hg_data[\"alf\"]"
   ]
  },
  {
   "cell_type": "code",
   "execution_count": 13,
   "metadata": {},
   "outputs": [
    {
     "name": "stdout",
     "output_type": "stream",
     "text": [
      "('pbe', 7.906210933634736)\n",
      "('pbe0', 2.836532505810867)\n"
     ]
    }
   ],
   "source": [
    "# Reproduce their published MRE values to make sure the data we have is correct\n",
    "molecules_all = [mol for mol in hg_data.keys()]\n",
    "for func in [\"pbe\", \"pbe0\"]:\n",
    "    # Get the relative errors for each pol component\n",
    "    mre_xx = sum([100 * (hg_data[mol][func][\"diagonal\"][0] / hg_data[mol][\"ccsd(t)\"][\"diagonal\"][0] - 1) for mol in molecules_all]) / len(molecules_all)\n",
    "    mre_yy = sum([100 * (hg_data[mol][func][\"diagonal\"][1] / hg_data[mol][\"ccsd(t)\"][\"diagonal\"][1] - 1) for mol in molecules_all]) / len(molecules_all)\n",
    "    mre_zz = sum([100 * (hg_data[mol][func][\"diagonal\"][2] / hg_data[mol][\"ccsd(t)\"][\"diagonal\"][2] - 1) for mol in molecules_all]) / len(molecules_all)\n",
    "    \n",
    "    mre_tot = sum([mre_xx, mre_yy, mre_zz]) / 3\n",
    "    print(func, mre_tot)"
   ]
  },
  {
   "cell_type": "code",
   "execution_count": 18,
   "metadata": {},
   "outputs": [],
   "source": [
    "## Now produce some plots \n",
    "## Top axes: The relative error between GTO and MW polarizabilities for each molecule, using MW\n",
    "##           as reference: RE = (GTO - MW) / MW * 100.\n",
    "##   \n",
    "##           Color coding: blue for non-spin polarized molecules\n",
    "##                         red  for     spin polarized molecules\n",
    "##  \n",
    "## Bottom axes: Compare both MW and GTO polarizabilities to the CCSD(t) reference provided by HG et al.\n",
    "##              using the CC results as reference.\n",
    "##   \n",
    "##              Color coding: black for GTO relative errors\n",
    "##                            blue  for non-spin polarized MW relative errors\n",
    "##                            red   for     spin polarized MW relative errors"
   ]
  },
  {
   "cell_type": "code",
   "execution_count": null,
   "metadata": {},
   "outputs": [],
   "source": [
    "# 4 molecules () are missing from the MW dataset, so we base all comparisons on the keys of mw_data\n",
    "molecules = [mol for mol in mw_data.keys()]\n",
    "\n",
    "# Define the xticks for the plots\n",
    "xticks = range(len(molecules))\n",
    "\n",
    "# Now extract the data we want\n",
    "rel_err_pbe    = [100 * (hg_data[mol][\"pbe\"][\"mean\"] / mw_data[mol][\"pbe\"][\"mean\"]     - 1) for mol in molecules]\n",
    "rel_err_mw_cc  = [100 * (mw_data[mol][\"pbe\"][\"mean\"] / hg_data[mol][\"ccsd(t)\"][\"mean\"] - 1) for mol in molecules]\n",
    "rel_err_gto_cc = [100 * (hg_data[mol][\"pbe\"][\"mean\"] / hg_data[mol][\"ccsd(t)\"][\"mean\"] - 1) for mol in molecules]\n",
    "\n",
    "# Sort data based on the PBE relative error results, by zip-sort-unzip\n",
    "molecules_sorted, rel_err_pbe_sorted, rel_err_mw_cc_sorted, rel_err_gto_cc_sorted = zip(*sorted(zip(molecules, rel_err_pbe, rel_err_mw_cc, rel_err_gto_cc), reverse=True, key=operator.itemgetter(1)))\n",
    "\n",
    "# Define bar colors based on spin polarization\n",
    "spin_colors = [\"deepskyblue\" if hg_data[mol][\"spin\"] == \"NSP\" else \"crimson\" for mol in molecules_sorted]\n",
    "\n",
    "# Set up the figure with subplots\n",
    "fontsize = 14\n",
    "width=0.8\n",
    "\n",
    "fig, (ax1, ax2) = plt.subplots(figsize=(30, 10), nrows=2, ncols=1, sharex=True)\n",
    "ax1.tick_params(axis=\"y\", labelsize=fontsize)\n",
    "ax2.tick_params(axis=\"y\", labelsize=fontsize)\n",
    "\n",
    "# Define two \"ghost\" labels, to fit in a text that works as a common label for both axes\n",
    "ax1.set_ylabel(\" \", fontsize=20)\n",
    "ax2.set_ylabel(\" \", fontsize=20)\n",
    "fig.text(0.01, 0.5, \"Relative Error [%]\", fontsize=fontsize, rotation=90, ha=\"center\", va=\"center\")\n",
    "\n",
    "# Plot data\n",
    "for i in range(len(molecules_sorted)):\n",
    "    mult = mw_data[molecules_sorted[i]][\"multiplicity\"]\n",
    "    # Shift the multiplicities by a small factor to not overlap with bar plot\n",
    "    offset = 0.3 if rel_err_pbe_sorted[i] > 0 else -0.3\n",
    "\n",
    "    # Plot multiplicities\n",
    "    ax1.text(xticks[i], rel_err_pbe_sorted[i]+offset, str(mult), ha=\"center\", va=\"center\", fontsize=12)\n",
    "    \n",
    "    # Plot GTO compared to MW\n",
    "    ax1.bar(xticks[i], rel_err_pbe_sorted[i], color=spin_colors[i], edgecolor=\"black\", width=width)\n",
    "\n",
    "    # Plot MW and GTO compared to CCSD(T)\n",
    "    ax2.bar(xticks[i], rel_err_gto_cc_sorted[i], color=\"#264040\", edgecolor=\"black\", width=width)\n",
    "    ax2.bar(xticks[i], rel_err_mw_cc_sorted[i], color=spin_colors[i], edgecolor=\"black\", width=0.5*width)\n",
    "\n",
    "ax2.set_xlim(-1, len(molecules))\n",
    "ax1.grid(True, linestyle=\"--\")\n",
    "ax2.grid(True, linestyle=\"--\")\n",
    "\n",
    "# Place the molecule names on the xtick positions, rotation by 90 degrees\n",
    "plt.xticks(xticks, [mol.upper() for mol in molecules_sorted], rotation=90, fontsize=12)\n",
    "\n",
    "plt.tight_layout()\n",
    "plt.show()"
   ]
  },
  {
   "cell_type": "code",
   "execution_count": null,
   "metadata": {},
   "outputs": [],
   "source": []
  }
 ],
 "metadata": {
  "kernelspec": {
   "display_name": "Python 2",
   "language": "python",
   "name": "python2"
  },
  "language_info": {
   "codemirror_mode": {
    "name": "ipython",
    "version": 2
   },
   "file_extension": ".py",
   "mimetype": "text/x-python",
   "name": "python",
   "nbconvert_exporter": "python",
   "pygments_lexer": "ipython2",
   "version": "2.7.15"
  }
 },
 "nbformat": 4,
 "nbformat_minor": 2
}
